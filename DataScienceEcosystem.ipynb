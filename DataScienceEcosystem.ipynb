{
 "cells": [
  {
   "cell_type": "markdown",
   "id": "d31f8706-5af6-4db7-b369-cf3e5055ff29",
   "metadata": {},
   "source": [
    "# Data Science Tools and Ecosystem"
   ]
  },
  {
   "cell_type": "markdown",
   "id": "3b9810dc-3784-4058-8693-338cc40df9be",
   "metadata": {},
   "source": [
    "## Introduction"
   ]
  },
  {
   "cell_type": "markdown",
   "id": "688400c4-07b9-4905-84ae-bb87eb59972f",
   "metadata": {},
   "source": [
    "### In this notebook, Data Science Tools and Ecosystem are summarized."
   ]
  },
  {
   "cell_type": "markdown",
   "id": "676d8fd6-c6d8-4ee7-b843-d608ce3fb373",
   "metadata": {},
   "source": [
    "Data science tools and ecosystem comprise a diverse array of software, including programming languages like Python and R, libraries such as TensorFlow and scikit-learn, and platforms like Jupyter and Apache Spark, facilitating data collection, analysis, visualization, and machine learning model development in various domains fostering innovation and enabling data-driven decision-making across industries."
   ]
  },
  {
   "cell_type": "markdown",
   "id": "13f89a32-4497-4df7-be46-ba33a303995e",
   "metadata": {},
   "source": [
    "## **Objectives**\n",
    "\n",
    "- Describing the Data Scientist’s tool kit which includes: Libraries & Packages, Data sets, Machine learning models, and Big Data tools\n",
    "- Demonstrating working knowledge of tools such as Jupyter notebooks and RStudio and utilize their various features\n",
    "- Obtaining knowledge on languages commonly used by data scientists like Python, R, and SQL\n",
    "- Creating and managing source code for data science using Git repositories and GitHub."
   ]
  },
  {
   "cell_type": "markdown",
   "id": "aaf711c3-f5d9-4783-81e8-2e3da6921d41",
   "metadata": {},
   "source": [
    "### Some of the popular languages that Data Scientists use are:"
   ]
  },
  {
   "cell_type": "raw",
   "id": "2e81ff4b-696b-453c-852c-7b59b3a1c065",
   "metadata": {},
   "source": [
    "1.Python\n",
    "2.Java\n",
    "3.Scala\n",
    "4.C++\n",
    "5.SQL"
   ]
  },
  {
   "cell_type": "markdown",
   "id": "5fe64b80-27ea-4efa-9bbb-4345b5c9f273",
   "metadata": {},
   "source": [
    "### Some of the commonly used libraries used by Data Scientists include:"
   ]
  },
  {
   "cell_type": "raw",
   "id": "1787ea68-b989-4bb4-8b80-cc156f6ae437",
   "metadata": {},
   "source": [
    "1.Pandas\n",
    "2.Numpy\n",
    "3.Matplotlib\n",
    "4.Seaborn\n",
    "5.Scikit-learn"
   ]
  },
  {
   "cell_type": "markdown",
   "id": "f41cbb7c-622f-4720-aabc-4bb6753db148",
   "metadata": {},
   "source": [
    "| Data Science Tools |\n",
    "|:------------------:|\n",
    "| Jupyter Notebooks  |\n",
    "| RStudio            |\n",
    "| VS Code            |"
   ]
  },
  {
   "cell_type": "markdown",
   "id": "c0905d50-91b8-4513-abce-4b76b88c87e6",
   "metadata": {},
   "source": [
    "### Below are a few examples of evaluating arithmetic expressions in Python"
   ]
  },
  {
   "cell_type": "code",
   "execution_count": 1,
   "id": "c3e4bb94-ceb0-4fbf-844c-248a31cdd555",
   "metadata": {},
   "outputs": [
    {
     "data": {
      "text/plain": [
       "17"
      ]
     },
     "execution_count": 1,
     "metadata": {},
     "output_type": "execute_result"
    }
   ],
   "source": [
    "# This a simple arithmetic expression to mutiply then add integers\n",
    "\n",
    "(3*4)+5"
   ]
  },
  {
   "cell_type": "markdown",
   "id": "3a970f03-2e4d-4aa3-9b01-88e5870f0862",
   "metadata": {},
   "source": [
    "### Converting minutes to hours"
   ]
  },
  {
   "cell_type": "code",
   "execution_count": 2,
   "id": "ae283e28-b12b-4db3-ab1c-cb851cb960ed",
   "metadata": {},
   "outputs": [
    {
     "data": {
      "text/plain": [
       "3.3333333333333335"
      ]
     },
     "execution_count": 2,
     "metadata": {},
     "output_type": "execute_result"
    }
   ],
   "source": [
    "# This will convert 200 minutes to hours by diving by 60\n",
    "\n",
    "200/60"
   ]
  },
  {
   "cell_type": "markdown",
   "id": "143d0790-c4b0-40af-9b2e-fce35da73b59",
   "metadata": {},
   "source": [
    "## Author"
   ]
  },
  {
   "cell_type": "markdown",
   "id": "a81d3b50-25d1-47e9-8b3a-94db5400ca61",
   "metadata": {},
   "source": [
    "YIGGA ANDREW KALUMBA"
   ]
  }
 ],
 "metadata": {
  "kernelspec": {
   "display_name": "Python 3 (ipykernel)",
   "language": "python",
   "name": "python3"
  },
  "language_info": {
   "codemirror_mode": {
    "name": "ipython",
    "version": 3
   },
   "file_extension": ".py",
   "mimetype": "text/x-python",
   "name": "python",
   "nbconvert_exporter": "python",
   "pygments_lexer": "ipython3",
   "version": "3.10.13"
  }
 },
 "nbformat": 4,
 "nbformat_minor": 5
}
